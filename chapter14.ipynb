{
 "cells": [
  {
   "cell_type": "code",
   "execution_count": null,
   "metadata": {
    "collapsed": false
   },
   "outputs": [],
   "source": [
    "require 'gsl'\n",
    "\n",
    "module Rng\n",
    "  def rng(seed=0)\n",
    "    @rng ||= GSL::Rng.alloc 'gsl_rng_mt19937', seed\n",
    "  end\n",
    "end\n",
    "\n",
    "class AdPublisher\n",
    "  include Rng\n",
    "  \n",
    "  def initialize(scale, min_price, relative_width=0.1)\n",
    "    @scale = scale\n",
    "    @min = min_price\n",
    "    @width = relative_width\n",
    "  end\n",
    "  \n",
    "  def work(price)\n",
    "    return 0 if price <= @min\n",
    "    \n",
    "    mean = @scale * Math.log(price / @min)\n",
    "    demand = mean + rng.gaussian(@width * mean)\n",
    "    \n",
    "    [0, demand].max\n",
    "  end\n",
    "end"
   ]
  },
  {
   "cell_type": "code",
   "execution_count": null,
   "metadata": {
    "collapsed": false
   },
   "outputs": [],
   "source": [
    "publisher = AdPublisher.new 100, 2\n",
    "result = []\n",
    "1.upto(100).each do |i|\n",
    "  price = i/100.0 * 20\n",
    "  10.times do\n",
    "    result << [price, publisher.work(price)]\n",
    "  end\n",
    "end\n",
    "\n",
    "require 'gnuplot'\n",
    "\n",
    "Gnuplot::Plot.new do |plot|\n",
    "  plot.xlabel 'Price per impression'\n",
    "  plot.ylabel 'Impressions'\n",
    "  plot.data << Gnuplot::DataSet.new(result.transpose) do |ds|\n",
    "    ds.notitle\n",
    "  end\n",
    "  plot.data << Gnuplot::DataSet.new('20 * x')\n",
    "end"
   ]
  }
 ],
 "metadata": {
  "kernelspec": {
   "display_name": "Ruby 2.3.0",
   "language": "ruby",
   "name": "ruby"
  },
  "language_info": {
   "file_extension": ".rb",
   "mimetype": "application/x-ruby",
   "name": "ruby",
   "version": "2.3.0"
  }
 },
 "nbformat": 4,
 "nbformat_minor": 0
}
