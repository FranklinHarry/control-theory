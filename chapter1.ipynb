{
 "cells": [
  {
   "cell_type": "markdown",
   "metadata": {},
   "source": [
    "# Buffer System"
   ]
  },
  {
   "cell_type": "code",
   "execution_count": null,
   "metadata": {
    "collapsed": false
   },
   "outputs": [],
   "source": [
    "class Buffer\n",
    "  def initialize(max_items, max_flow)\n",
    "    @ready_pool = 0\n",
    "    @downstream_buffer = 0\n",
    "\n",
    "    @max_items = max_items\n",
    "    @max_flow = max_flow\n",
    "  end\n",
    "\n",
    "  def work(items)\n",
    "    items = [0, items.round].max\n",
    "    items = discard_excess_items items\n",
    "    @ready_pool += items\n",
    "\n",
    "    @downstream_buffer += release_to_buffer\n",
    "\n",
    "    @downstream_buffer -= work_on_items\n",
    "    \n",
    "    @downstream_buffer\n",
    "  end\n",
    "  \n",
    "  private\n",
    "  \n",
    "  def discard_excess_items(items)\n",
    "    [items, @max_items].min\n",
    "  end\n",
    "  \n",
    "  def release_to_buffer\n",
    "    t = (rand * @ready_pool).round\n",
    "    @ready_pool -= t\n",
    "    t\n",
    "  end\n",
    "  \n",
    "  def work_on_items\n",
    "    r = (rand * @max_flow).round\n",
    "    [r, @downstream_buffer].min\n",
    "  end\n",
    "end"
   ]
  },
  {
   "cell_type": "markdown",
   "metadata": {},
   "source": [
    "## Hope for the best\n",
    "\n",
    "Openloop setup described on page 5.\n",
    "\n",
    "Average consumption rate = inflow "
   ]
  },
  {
   "cell_type": "code",
   "execution_count": null,
   "metadata": {
    "collapsed": false
   },
   "outputs": [],
   "source": [
    "def simulate(consumption_rate = 1.0)\n",
    "  buffer = Buffer.new 200, 10 * consumption_rate\n",
    "  data = 1.upto(5000).map do |t|\n",
    "    units_into_buffer = 5.0 # mean(uniform(0,10))\n",
    "    queue_length = buffer.work units_into_buffer\n",
    "    [t, units_into_buffer, queue_length]\n",
    "  end.transpose\n",
    "\n",
    "  require 'gnuplot'\n",
    "\n",
    "  Gnuplot::Plot.new do |plot|\n",
    "    plot.data << Gnuplot::DataSet.new(data.values_at 0, 2) do |ds|\n",
    "      ds.title = 'Queue Length'\n",
    "      ds.with = 'lines'\n",
    "    end\n",
    "  end\n",
    "end\n",
    "\n",
    "simulate"
   ]
  },
  {
   "cell_type": "markdown",
   "metadata": {},
   "source": [
    "Average consumption_rate = 0.98 of inflow (slightly below inflow)"
   ]
  },
  {
   "cell_type": "code",
   "execution_count": null,
   "metadata": {
    "collapsed": false
   },
   "outputs": [],
   "source": [
    "simulate(0.98)"
   ]
  }
 ],
 "metadata": {
  "kernelspec": {
   "display_name": "Ruby 2.3.1",
   "language": "ruby",
   "name": "ruby"
  },
  "language_info": {
   "file_extension": ".rb",
   "mimetype": "application/x-ruby",
   "name": "ruby",
   "version": "2.3.1"
  }
 },
 "nbformat": 4,
 "nbformat_minor": 0
}
