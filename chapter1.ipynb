{
 "cells": [
  {
   "cell_type": "markdown",
   "metadata": {},
   "source": [
    "# Buffer System"
   ]
  },
  {
   "cell_type": "code",
   "execution_count": null,
   "metadata": {
    "collapsed": false
   },
   "outputs": [],
   "source": [
    "class Buffer\n",
    "  def initialize(max_items, max_flow)\n",
    "    @ready_pool = 0\n",
    "    @downstream_buffer = 0\n",
    "\n",
    "    @max_items = max_items\n",
    "    @max_flow = max_flow\n",
    "  end\n",
    "\n",
    "  def work(items)\n",
    "    items = [0, items.round].max\n",
    "    items = discard_excess_items items\n",
    "    @ready_pool += items\n",
    "\n",
    "    @downstream_buffer += release_to_buffer\n",
    "\n",
    "    @downstream_buffer -= work_on_items\n",
    "    \n",
    "    @downstream_buffer\n",
    "  end\n",
    "  \n",
    "  private\n",
    "  \n",
    "  def discard_excess_items(items)\n",
    "    [items, @max_items].min\n",
    "  end\n",
    "  \n",
    "  def release_to_buffer\n",
    "    t = (rand * @ready_pool).round\n",
    "    @ready_pool -= t\n",
    "    t\n",
    "  end\n",
    "  \n",
    "  def work_on_items\n",
    "    r = (rand * @max_flow).round\n",
    "    [r, @downstream_buffer].min\n",
    "  end\n",
    "end"
   ]
  },
  {
   "cell_type": "markdown",
   "metadata": {},
   "source": [
    "## Hope for the best\n",
    "\n",
    "Openloop setup described on page 5.\n",
    "\n",
    "Average units flowing out "
   ]
  },
  {
   "cell_type": "code",
   "execution_count": null,
   "metadata": {
    "collapsed": false
   },
   "outputs": [],
   "source": [
    "buffer = Buffer.new 50, 10\n",
    "data = 1.upto(5000).map do |t|\n",
    "  u = 5.0 # mean(uniform(0,10))\n",
    "  y = buffer.work u\n",
    "  [t, u, 0, u, y]\n",
    "end.transpose\n",
    "\n",
    "require 'gnuplot'\n",
    "\n",
    "Gnuplot::Plot.new do |plot|\n",
    "  plot.data << Gnuplot::DataSet.new(data.values_at 0, 4) do |ds|\n",
    "    ds.with = 'lines'\n",
    "  end\n",
    "end"
   ]
  }
 ],
 "metadata": {
  "kernelspec": {
   "display_name": "Ruby 2.3.0",
   "language": "ruby",
   "name": "ruby"
  },
  "language_info": {
   "file_extension": ".rb",
   "mimetype": "application/x-ruby",
   "name": "ruby",
   "version": "2.3.0"
  }
 },
 "nbformat": 4,
 "nbformat_minor": 0
}