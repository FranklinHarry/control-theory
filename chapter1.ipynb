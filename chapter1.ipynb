{
 "cells": [
  {
   "cell_type": "markdown",
   "metadata": {},
   "source": [
    "# Buffer System"
   ]
  },
  {
   "cell_type": "code",
   "execution_count": null,
   "metadata": {
    "collapsed": false
   },
   "outputs": [],
   "source": [
    "class Buffer\n",
    "  def initialize(max_items, max_flow)\n",
    "    @ready_pool = 0\n",
    "    @downstream_buffer = 0\n",
    "\n",
    "    @max_items = max_items\n",
    "    @max_flow = max_flow\n",
    "  end\n",
    "\n",
    "  def work(items)\n",
    "    items = [0, items.round].max\n",
    "    items = discard_excess_items items\n",
    "    @ready_pool += items\n",
    "\n",
    "    @downstream_buffer += release_to_buffer\n",
    "\n",
    "    @downstream_buffer -= work_on_items\n",
    "    \n",
    "    @downstream_buffer\n",
    "  end\n",
    "  \n",
    "  private\n",
    "  \n",
    "  def discard_excess_items(items)\n",
    "    [items, @max_items].min\n",
    "  end\n",
    "  \n",
    "  def release_to_buffer\n",
    "    t = (rand * @ready_pool).round\n",
    "    @ready_pool -= t\n",
    "    t\n",
    "  end\n",
    "  \n",
    "  def work_on_items\n",
    "    r = (rand * @max_flow).round\n",
    "    [r, @downstream_buffer].min\n",
    "  end\n",
    "end"
   ]
  },
  {
   "cell_type": "markdown",
   "metadata": {},
   "source": [
    "## Hope for the best\n",
    "\n",
    "Openloop setup described on page 5.\n",
    "\n",
    "Average consumption rate = inflow "
   ]
  },
  {
   "cell_type": "code",
   "execution_count": null,
   "metadata": {
    "collapsed": false
   },
   "outputs": [],
   "source": [
    "def simulate(consumption_rate = 1.0)\n",
    "  buffer = Buffer.new 200, 10 * consumption_rate\n",
    "  data = 1.upto(5000).map do |t|\n",
    "    units_into_buffer = 5.0 # mean(uniform(0,10))\n",
    "    queue_length = buffer.work units_into_buffer\n",
    "    [t, units_into_buffer, queue_length]\n",
    "  end.transpose\n",
    "\n",
    "  require 'gnuplot'\n",
    "\n",
    "  Gnuplot::Plot.new do |plot|\n",
    "    plot.data << Gnuplot::DataSet.new(data.values_at 0, 2) do |ds|\n",
    "      ds.title = 'Queue Length'\n",
    "      ds.with = 'lines'\n",
    "    end\n",
    "  end\n",
    "end\n",
    "\n",
    "simulate"
   ]
  },
  {
   "cell_type": "markdown",
   "metadata": {},
   "source": [
    "Average consumption_rate = 0.98 of inflow (slightly below inflow)"
   ]
  },
  {
   "cell_type": "code",
   "execution_count": null,
   "metadata": {
    "collapsed": false
   },
   "outputs": [],
   "source": [
    "simulate(0.98)"
   ]
  },
  {
   "cell_type": "code",
   "execution_count": null,
   "metadata": {
    "collapsed": false
   },
   "outputs": [],
   "source": [
    "def target_outflow(t)\n",
    "  if t < 100\n",
    "    0.0\n",
    "  elsif t < 300\n",
    "    50.0\n",
    "  else\n",
    "    10.0\n",
    "  end\n",
    "end\n",
    "\n",
    "class Controller\n",
    "  def initialize(proportional_gain = 0.0, integral_gain = 0.0)\n",
    "    @proportional_gain = proportional_gain\n",
    "    @integral_gain = integral_gain\n",
    "    @cumulative_error = 0.0\n",
    "  end\n",
    "  \n",
    "  def work(error)\n",
    "    @cumulative_error += error\n",
    "    \n",
    "    @proportional_gain * error# + @integral_gain * @cumulative_errror\n",
    "  end\n",
    "end\n",
    "\n",
    "buffer = Buffer.new 10, 10\n",
    "\n",
    "def closed_loop(controller, buffer)\n",
    "  current_outflow = 0.0\n",
    "  data = 1000.times.map do |t|\n",
    "    r = target_outflow(t)\n",
    "    e = r - current_outflow\n",
    "\n",
    "    inflow = controller.work(e)\n",
    "    current_outflow = buffer.work(inflow)\n",
    "    [t, target_outflow(t), e, inflow, current_outflow]\n",
    "  end.transpose\n",
    "\n",
    "  Gnuplot::Plot.new do |plot|\n",
    "    plot.data << Gnuplot::DataSet.new(data.values_at 0, 4) do |ds|\n",
    "      ds.title = 'Queue Length'\n",
    "      ds.with = 'lines'\n",
    "    end\n",
    "\n",
    "    plot.data << Gnuplot::DataSet.new(data.values_at 0, 1) do |ds|\n",
    "      ds.title = 'Target Length'\n",
    "      ds.with = 'lines'\n",
    "    end\n",
    "  end\n",
    "end"
   ]
  },
  {
   "cell_type": "markdown",
   "metadata": {},
   "source": [
    "$K_p = 0.5$"
   ]
  },
  {
   "cell_type": "code",
   "execution_count": null,
   "metadata": {
    "collapsed": false
   },
   "outputs": [],
   "source": [
    "controller = Controller.new(0.5)\n",
    "\n",
    "closed_loop(controller, buffer)"
   ]
  },
  {
   "cell_type": "markdown",
   "metadata": {},
   "source": [
    "$K_p = 2.0$"
   ]
  },
  {
   "cell_type": "code",
   "execution_count": null,
   "metadata": {
    "collapsed": false
   },
   "outputs": [],
   "source": [
    "controller = Controller.new(2.0)\n",
    "\n",
    "closed_loop(controller, buffer)"
   ]
  },
  {
   "cell_type": "markdown",
   "metadata": {},
   "source": [
    "## Integral Control\n",
    "\n",
    "$K_p = 1.25$\n",
    "\n",
    "$K_i = 0.01$"
   ]
  },
  {
   "cell_type": "code",
   "execution_count": null,
   "metadata": {
    "collapsed": false
   },
   "outputs": [],
   "source": [
    "controller = Controller.new 1.25, 0.01\n",
    "\n",
    "closed_loop(controller, buffer)"
   ]
  }
 ],
 "metadata": {
  "kernelspec": {
   "display_name": "Ruby 2.3.1",
   "language": "ruby",
   "name": "ruby"
  },
  "language_info": {
   "file_extension": ".rb",
   "mimetype": "application/x-ruby",
   "name": "ruby",
   "version": "2.3.1"
  }
 },
 "nbformat": 4,
 "nbformat_minor": 0
}
