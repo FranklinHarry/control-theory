{
 "cells": [
  {
   "cell_type": "markdown",
   "metadata": {},
   "source": [
    "Time step constant $dt$"
   ]
  },
  {
   "cell_type": "code",
   "execution_count": null,
   "metadata": {
    "collapsed": false
   },
   "outputs": [],
   "source": [
    "DT = 0.1"
   ]
  },
  {
   "cell_type": "markdown",
   "metadata": {},
   "source": [
    "# Controller\n",
    "\n",
    "* Proportional $K_p$\n",
    "* Integral $K_i$\n",
    "* Differential $K_d$"
   ]
  },
  {
   "cell_type": "code",
   "execution_count": null,
   "metadata": {
    "collapsed": false
   },
   "outputs": [],
   "source": [
    "class PidController\n",
    "  def initialize(kp, ki, kd=0.0)\n",
    "    @kp, @ki, @kd = [kp, ki, kd]\n",
    "    \n",
    "    @i = 0\n",
    "    @d = 0\n",
    "    @prev = 0\n",
    "  end\n",
    "  \n",
    "  def work(e)\n",
    "    @i += DT*e\n",
    "    @d = (e - @prev) / DT\n",
    "    @prev = e\n",
    "    \n",
    "    return @kp * e + @ki * i + @kd * @d\n",
    "  end\n",
    "end"
   ]
  },
  {
   "cell_type": "markdown",
   "metadata": {},
   "source": [
    "# Filters\n",
    "\n",
    "Identity, Integrator"
   ]
  },
  {
   "cell_type": "code",
   "execution_count": null,
   "metadata": {
    "collapsed": false
   },
   "outputs": [],
   "source": [
    "class Identity\n",
    "  def work(u)\n",
    "    u\n",
    "  end\n",
    "end\n",
    "\n",
    "class Integrator\n",
    "  def initialize\n",
    "    @data = 0\n",
    "  end\n",
    "  \n",
    "  def work(e)\n",
    "    @data += e\n",
    "    DT * data\n",
    "  end\n",
    "end"
   ]
  }
 ],
 "metadata": {
  "kernelspec": {
   "display_name": "Ruby 2.3.0",
   "language": "ruby",
   "name": "ruby"
  },
  "language_info": {
   "file_extension": ".rb",
   "mimetype": "application/x-ruby",
   "name": "ruby",
   "version": "2.3.0"
  }
 },
 "nbformat": 4,
 "nbformat_minor": 0
}
